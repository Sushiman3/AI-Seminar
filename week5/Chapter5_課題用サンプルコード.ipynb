{
  "cells": [
    {
      "cell_type": "markdown",
      "metadata": {
        "id": "cgTa6Oi3BW3-"
      },
      "source": [
        "# 5　実践AI講座 第5回　ワクワク系AIプロジェクト1 (MNIST)\n",
        "### 演習課題用ノートブック(FashionMNIST)"
      ]
    },
    {
      "cell_type": "code",
      "execution_count": null,
      "metadata": {
        "id": "AawsYm8W9BVF"
      },
      "outputs": [],
      "source": [
        "import torch\n",
        "import torch.nn as nn\n",
        "import torch.nn.functional as F\n",
        "import torch.optim as optim\n",
        "import torchvision\n",
        "import torchvision.transforms as transforms"
      ]
    },
    {
      "cell_type": "code",
      "execution_count": null,
      "metadata": {
        "id": "kUgcfl1DKiPj"
      },
      "outputs": [],
      "source": [
        "#各要素は画像データに対応するtorch.tensorとラベルからなる。\n",
        "'''\n",
        "root[str]: データの保存（または参照）場所\n",
        "train[bool]: Trueなら訓練データセット、Falseならテストデータセットを取得\n",
        "download[bool]: データがrootで指定したパスに存在しない場合、ダウンロードするかどうかを指定\n",
        "'''\n",
        "train_dataset = torchvision.datasets.FashionMNIST(\n",
        "    root ='./data',\n",
        "    train=True,\n",
        "    transform=transforms.ToTensor(),\n",
        "    download=True,\n",
        ")\n",
        "\n",
        "test_dataset = torchvision.datasets.FashionMNIST(\n",
        "    root ='./data',\n",
        "    train=False,\n",
        "    transform=transforms.ToTensor(),\n",
        "    download=True,\n",
        ")"
      ]
    },
    {
      "cell_type": "code",
      "execution_count": null,
      "metadata": {
        "id": "l30C6NBYKahU"
      },
      "outputs": [],
      "source": [
        "batch_size = 256\n",
        "\n",
        "train_loader = torch.utils.data.DataLoader(dataset=train_dataset,\n",
        "                                           batch_size=batch_size,\n",
        "                                           shuffle=True)\n",
        "\n",
        "test_loader = torch.utils.data.DataLoader(dataset=test_dataset,\n",
        "                                           batch_size=batch_size,\n",
        "                                           shuffle=True)\n"
      ]
    },
    {
      "cell_type": "code",
      "execution_count": null,
      "metadata": {
        "id": "HbSoBHcMK1l1"
      },
      "outputs": [],
      "source": [
        "class Net(nn.Module):\n",
        "    def __init__(self, input_size, hidden1_size, hidden2_size, output_size):\n",
        "        super(Net, self).__init__()\n",
        "        self.fc1 = nn.Linear(input_size, hidden1_size)\n",
        "        self.fc2 = nn.Linear(hidden1_size, hidden2_size)\n",
        "        self.fc3 = nn.Linear(hidden2_size, output_size)\n",
        "\n",
        "    def forward(self, x): # x : 入力\n",
        "        z1 = F.relu(self.fc1(x))\n",
        "        z2 = F.relu(self.fc2(z1))\n",
        "        y = self.fc3(z2)\n",
        "        return y\n"
      ]
    },
    {
      "cell_type": "code",
      "execution_count": null,
      "metadata": {
        "id": "TRBniyPFK2ys"
      },
      "outputs": [],
      "source": [
        "input_size = 28*28\n",
        "hidden1_size = 1024\n",
        "hidden2_size = 512\n",
        "output_size = 10\n",
        "\n",
        "device = 'cuda' if torch.cuda.is_available() else 'cpu'\n",
        "model = Net(input_size, hidden1_size, hidden2_size, output_size).to(device)\n",
        "print(model)\n"
      ]
    },
    {
      "cell_type": "code",
      "execution_count": null,
      "metadata": {
        "id": "Qjsi_e9IK53x"
      },
      "outputs": [],
      "source": [
        "# 損失関数　criterion：基準\n",
        "# CrossEntropyLoss：交差エントロピー誤差関数\n",
        "criterion = nn.CrossEntropyLoss()\n",
        "\n",
        "# 最適化法の指定　optimizer：最適化\n",
        "# SGD：確率的勾配降下法\n",
        "optimizer = optim.SGD(model.parameters(), lr=0.01)\n"
      ]
    },
    {
      "cell_type": "code",
      "execution_count": null,
      "metadata": {
        "id": "-hf_K_0KK-qw"
      },
      "outputs": [],
      "source": [
        "def train_model(model, train_loader, criterion, optimizer, device='cpu'):\n",
        "\n",
        "    train_loss = 0.0\n",
        "    num_train = 0\n",
        "\n",
        "    # 学習モデルに変換\n",
        "    model.train()\n",
        "\n",
        "    for i, (images, labels) in enumerate(train_loader):\n",
        "        # batch数をカウント\n",
        "        num_train += len(labels)\n",
        "\n",
        "        images, labels = images.view(-1, 28*28).to(device), labels.to(device)\n",
        "\n",
        "        # 勾配を初期化\n",
        "        optimizer.zero_grad()\n",
        "\n",
        "        # 推論(順伝播)\n",
        "        outputs = model(images)\n",
        "\n",
        "        # 損失の算出\n",
        "        loss = criterion(outputs, labels)\n",
        "\n",
        "        # 誤差逆伝播\n",
        "        loss.backward()\n",
        "\n",
        "        # パラメータの更新\n",
        "        optimizer.step()\n",
        "\n",
        "        # lossを加算\n",
        "        train_loss += loss.item()\n",
        "\n",
        "    # lossの平均値を取る\n",
        "    train_loss = train_loss / num_train\n",
        "\n",
        "    return train_loss\n"
      ]
    },
    {
      "cell_type": "code",
      "execution_count": null,
      "metadata": {
        "id": "TgI7epgXLBHk"
      },
      "outputs": [],
      "source": [
        "def test_model(model, test_loader, criterion, optimizer, device='cpu'):\n",
        "\n",
        "    test_loss = 0.0\n",
        "    num_test = 0\n",
        "\n",
        "    # modelを評価モードに変更\n",
        "    model.eval()\n",
        "\n",
        "    with torch.no_grad(): # 勾配計算の無効化\n",
        "        for i, (images, labels) in enumerate(test_loader):\n",
        "            num_test += len(labels)\n",
        "            images, labels = images.view(-1, 28*28).to(device), labels.to(device)\n",
        "            outputs = model(images)\n",
        "            loss = criterion(outputs, labels)\n",
        "            test_loss += loss.item()\n",
        "\n",
        "        # lossの平均値を取る\n",
        "        test_loss = test_loss / num_test\n",
        "    return test_loss\n"
      ]
    },
    {
      "cell_type": "code",
      "execution_count": null,
      "metadata": {
        "id": "DVNPMkA1LDmx"
      },
      "outputs": [],
      "source": [
        "def learning(model, train_loader, test_loader, criterion, opimizer, num_epochs, device='cpu'):\n",
        "\n",
        "    train_loss_list = []\n",
        "    test_loss_list = []\n",
        "\n",
        "    # epoch数分繰り返す\n",
        "    for epoch in range(1, num_epochs+1, 1):\n",
        "\n",
        "        train_loss = train_model(model, train_loader, criterion, optimizer, device=device)\n",
        "        test_loss = test_model(model, test_loader, criterion, optimizer, device=device)\n",
        "\n",
        "        print(\"epoch : {}, train_loss : {:.5f}, test_loss : {:.5f}\" .format(epoch, train_loss, test_loss))\n",
        "\n",
        "        train_loss_list.append(train_loss)\n",
        "        test_loss_list.append(test_loss)\n",
        "\n",
        "    return train_loss_list, test_loss_list\n"
      ]
    },
    {
      "cell_type": "code",
      "execution_count": null,
      "metadata": {
        "id": "aoN-dJ4ILGRM"
      },
      "outputs": [],
      "source": [
        "num_epochs = 10\n",
        "train_loss_list, test_loss_list = learning(model, train_loader, test_loader, criterion, optimizer, num_epochs, device=device)"
      ]
    },
    {
      "cell_type": "code",
      "execution_count": null,
      "metadata": {
        "id": "scKGYkB-LKDv"
      },
      "outputs": [],
      "source": [
        "import matplotlib.pyplot as plt\n",
        "plt.plot(range(len(train_loss_list)), train_loss_list, c='b', label='train loss')\n",
        "plt.plot(range(len(test_loss_list)), test_loss_list, c='r', label='test loss')\n",
        "plt.xlabel(\"epoch\")\n",
        "plt.ylabel(\"loss\")\n",
        "plt.legend()\n",
        "plt.grid()\n",
        "plt.show()\n"
      ]
    },
    {
      "cell_type": "code",
      "execution_count": null,
      "metadata": {
        "id": "1U5e5OnrmbNw"
      },
      "outputs": [],
      "source": [
        "FashionMNIST_item = [\n",
        "    'T-shirt/top',\n",
        "    'Trouser',\n",
        "    'Pullover',\n",
        "    'Dress',\n",
        "    'Coat',\n",
        "    'Sandal',\n",
        "    'Shirt',\n",
        "    'Sneaker',\n",
        "    'Bag',\n",
        "    'Ankle boot'\n",
        "]\n",
        "#Trouser : ズボン\n",
        "#Pullover : ≒セーター\n",
        "#Ankle boot : 短めのブーツ"
      ]
    },
    {
      "cell_type": "code",
      "execution_count": null,
      "metadata": {
        "id": "HZqwbbmULOHX"
      },
      "outputs": [],
      "source": [
        "plt.figure(figsize=(20, 10))\n",
        "for i in range(10):\n",
        "    image, label = test_dataset[i]\n",
        "    image = image.view(-1, 28*28).to(device)\n",
        "\n",
        "    # 推論\n",
        "    prediction_label = torch.argmax(model(image))\n",
        "\n",
        "    ax = plt.subplot(1, 10, i+1)\n",
        "\n",
        "    plt.imshow(image.detach().to('cpu').numpy().reshape(28, 28), cmap='gray')\n",
        "    ax.axis('off')\n",
        "    ax.set_title('label : {}\\n Prediction : {}'.format(FashionMNIST_item[label], FashionMNIST_item[prediction_label]), fontsize=10)\n",
        "plt.show()\n"
      ]
    },
    {
      "cell_type": "code",
      "execution_count": null,
      "metadata": {
        "id": "mUBt3ALaLPfk"
      },
      "outputs": [],
      "source": [
        "correct_estimate = 0\n",
        "incorrect_index_list =[]\n",
        "\n",
        "for i in range(len(test_dataset)):\n",
        "  image, label = test_dataset[i]\n",
        "  image = image.view(-1, 28*28).to(device)\n",
        "\n",
        "  prediction_label = torch.argmax(model(image))\n",
        "\n",
        "  if prediction_label == label:\n",
        "    correct_estimate += 1\n",
        "  elif len(incorrect_index_list) < 10:\n",
        "    incorrect_index_list.append(i)\n",
        "\n",
        "\n",
        "print(f'正解数:{correct_estimate}　テストデータ総数:{len(test_dataset)}　正解率:{correct_estimate/len(test_dataset)}')"
      ]
    },
    {
      "cell_type": "code",
      "execution_count": null,
      "metadata": {
        "id": "mTYx6UNKPoKb"
      },
      "outputs": [],
      "source": [
        "#誤った予測を立ててしまった画像のうちの10個に対し、予測と正解、画像を表示する。\n",
        "for i in range(len(incorrect_index_list)):\n",
        "  image, label = test_dataset[incorrect_index_list[i]]\n",
        "  ax = plt.subplot(2, 5, i+1)\n",
        "  plt.imshow(image.detach().to('cpu').numpy().reshape(28, 28), cmap='gray')\n",
        "  ax.axis('off')\n",
        "  ax.set_title('label : {}\\n Prediction : {}'.format(FashionMNIST_item[label], incorrect_index_list[i]), fontsize=10)\n",
        "plt.show()\n"
      ]
    },
    {
      "cell_type": "markdown",
      "metadata": {
        "id": "-Nw9ZzuzH4hO"
      },
      "source": [
        "##演習課題2用\n",
        "以下のセルに、\n",
        "1. サンプルコードから何を変更したのか\n",
        "2. 結果（正解率等）が変わったか\n",
        "を簡単でいいので書いてください。"
      ]
    },
    {
      "cell_type": "markdown",
      "metadata": {
        "id": "9URpO89EIR1G"
      },
      "source": [
        "**ここに書く**"
      ]
    }
  ],
  "metadata": {
    "accelerator": "GPU",
    "colab": {
      "gpuType": "T4",
      "provenance": []
    },
    "kernelspec": {
      "display_name": "Python 3",
      "name": "python3"
    },
    "language_info": {
      "name": "python"
    }
  },
  "nbformat": 4,
  "nbformat_minor": 0
}
